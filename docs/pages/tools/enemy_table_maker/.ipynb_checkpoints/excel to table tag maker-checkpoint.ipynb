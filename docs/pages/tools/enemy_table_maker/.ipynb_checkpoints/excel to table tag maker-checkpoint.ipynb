{
 "cells": [
  {
   "cell_type": "code",
   "execution_count": 1,
   "metadata": {
    "scrolled": false
   },
   "outputs": [
    {
     "name": "stdout",
     "output_type": "stream",
     "text": [
      "    <table border=\"1\" style=\"border-collapse: collapse\">\n",
      "        <tr><th bgcolor=\"#87cefa\">名前</th><th bgcolor=\"#87cefa\">弱点属性</th><th bgcolor=\"#87cefa\">弱点部位</th><th bgcolor=\"#87cefa\">破壊可能部位</th><th bgcolor=\"#87cefa\">ドロップアイテム</th><th bgcolor=\"#87cefa\"></th><th bgcolor=\"#87cefa\">出現場所</th><th bgcolor=\"#87cefa\">備考</th></tr>\n",
      "        <tr><th>ラウーダン</th><th></th><th>頭部</th><th>なし</th><th>N<br>H<br>VH<br>SH</th><th>ラウーダンの爪片<br>ラウーダンの超髪</th><th>鋼の荒野<br>難：鉱脈発見任務<br>難：鋼の荒野殲滅任務<br>超：狂風の暴君<br>超：棘の嵐</th><th>-<br>「超：狂風の暴君」での弱点属性は</th></tr>\n",
      "        <tr><th>フリラウーダン</th><th></th><th>頭部</th><th>なし</th><th>N<br>H<br>VH<br>SH</th><th><br>フリラウーダンの毛皮<br>フリラウーダンの鋭牙<br>フリラウーダンの超髪</th><th>天を衝く大尖塔<br>記憶の断片<br>塔の上のユノ<br>コラル・ドラゴン撃破任務<br>難：大尖塔殲滅任務<br>難：大尖塔殲滅任務<br>超：神雷の磁晶龍</th><th>-<br>「超：神雷の磁晶龍」での弱点属性は</th></tr>\n",
      "        <tr><th>ラウーダン・リアス</th><th></th><th>頭部</th><th>なし</th><th>N<br>H<br>VH<br>SH</th><th><br>ホワイトチケット</th><th>ラウーダン類のレアエネミー</th><th>-</th></tr>\n",
      "        <tr><th>べガルフ</th><th></th><th>頭部</th><th>なし</th><th>N<br>H<br>VH<br>SH</th><th>べガルフの牙片<br>べガルフの体毛<br>べガルフの超尻尾</th><th>グラン水源<br>難：グラン水源哨戒任務<br>難：グレイオス攻略任務<br>難：グラン水源殲滅任務</th><th>-</th></tr>\n",
      "        <tr><th>フロベガルフ</th><th></th><th>頭部</th><th>なし</th><th>N<br>H<br>VH<br>SH</th><th><br>フロベガルフの爪<br>フロべガルフの超尻尾</th><th><br>難：古代都市殲滅任務<br>難：古代都市広域偵察任務<br>超：城壁のヴィヴリュード<br>超：激光の装悪鬼<br>超：猛攻のグレイオス</th><th>-<br>「超：激光の装悪鬼」での弱点属性は</th></tr>\n",
      "        <tr><th>べガルフ・ライオ</th><th></th><th>頭部</th><th>なし</th><th>N<br>H<br>VH<br>SH</th><th></th><th>べガルフ類のレアエネミー</th><th>-</th></tr>\n",
      "        <tr><th>フォンべガルフ</th><th></th><th>頭部</th><th>なし</th><th>N<br>H<br>VH<br>SH</th><th><br>フォンべガルフの牙片<br>フォンべガルフの体毛<br>フォンべガルフの超角</th><th>グラン水源<br>難：グラン水源哨戒任務<br>難：グレイオス攻略任務<br>難：グラン水源殲滅任務</th><th>吠えた後、攻撃力上昇</th></tr>\n",
      "        <tr><th>フロフォンべガルフ</th><th></th><th>頭部</th><th>なし</th><th>N<br>H<br>VH<br>SH</th><th><br>フロフォンベガルフの爪<br>フロフォンべガルフの超角</th><th><br>難：古代都市広域偵察任務<br>超：城壁のヴィヴリュード<br>超：激光の装悪鬼</th><th>-<br>「超：激光の装悪鬼」での弱点属性は</th></tr>\n",
      "        <tr><th>フォンべガルフ・ライオ</th><th>なし</th><th>頭部</th><th>なし</th><th>N<br>H<br>VH<br>SH</th><th><br>ホワイトチケット</th><th>フォンべガルフ類のレアエネミー</th><th>-</th></tr>\n",
      "        <tr><th>イエーデン</th><th></th><th></th><th>なし</th><th>N<br>H<br>VH<br>SH</th><th><br>イエーデンの硬頭骨<br>イエーデンの超毛皮</th><th><br>難：古代都市殲滅任務<br>超：城壁のヴィヴリュード<br>超：猛攻のグレイオス</th><th>-</th></tr>\n",
      "        <tr><th>コパイエーデン</th><th></th><th></th><th>なし</th><th>N<br>H<br>VH<br>SH</th><th>コパイエーデンの爪片<br>コパイエーデンの硬頭骨<br>コパイイエーデンの超毛皮</th><th><br>超：獄炎のアルキュオネ<br>超:黒炎のアルテイオス</th><th>-<br>「超：獄炎のアルキュオネ」での弱点属性は<br>「超:黒炎のアルテイオス」での弱点属性は</th></tr>\n",
      "        <tr><th>イエーデン・アイエ</th><th>なし</th><th></th><th>なし</th><th>N<br>H<br>VH<br>SH</th><th><br>ホワイトチケット</th><th>イエーデン類のレアエネミー</th><th>-</th></tr>\n",
      "        <tr><th>ジュラキア</th><th></th><th></th><th>なし</th><th>N<br>H<br>VH<br>SH</th><th><br>ジュラキアの超羽毛</th><th>鋼の荒野<br>難：古代都市広域偵察任務<br>超：狂風の暴君<br>超：棘の嵐</th><th>-<br>「超：狂風の暴君」での弱点属性は</th></tr>\n",
      "        <tr><th>メドジュラキア</th><th></th><th></th><th>なし</th><th>N<br>H<br>VH<br>SH</th><th>鳥の羽片<br>メドジュラキアの超羽毛</th><th><br>難：鋼の荒野走破任務<br>難：鉱脈発見任務</th><th>-</th></tr>\n",
      "        <tr><th>ポリジュラキア</th><th></th><th></th><th>なし</th><th>N<br>H<br>VH<br>SH</th><th>鳥の羽片<br>ポリジュラキアの羽<br>ポリジュラキアの骨<br>ボリジュラキアの大尾羽<br>ポリジュラキアの超羽毛</th><th><br>超:黒炎のアルテイオス</th><th>-<br>「超:黒炎のアルテイオス」での弱点属性は</th></tr>\n",
      "        <tr><th>ガンジュラキア</th><th></th><th></th><th>なし</th><th>N<br>H<br>VH<br>SH</th><th>ガンジュラキアの羽片<br>ガンジュラキアの超羽毛</th><th>鋼の荒野<br>難：鋼の荒野殲滅任務<br>難：古代都市殲滅任務<br>超：激光の装悪鬼</th><th>-<br>「超：激光の装悪鬼」での弱点属性は</th></tr>\n",
      "        <tr><th>ジュラキア・スクア</th><th></th><th></th><th>なし</th><th>N<br>H<br>VH<br>SH</th><th></th><th>ジュラキア類のレアエネミー</th><th>-</th></tr>\n",
      "        <tr><th>バンクゥ</th><th></th><th></th><th>なし</th><th>N<br>H<br>VH<br>SH</th><th><br>バンクゥの大宝石<br>バンクゥの超結界</th><th><br>難：グラン水源殲滅任務<br>難：古代都市殲滅任務<br>超：激光の装悪鬼</th><th>-<br>「超：激光の装悪鬼」での弱点属性は</th></tr>\n",
      "        <tr><th>フレスバンクゥ</th><th>なし</th><th></th><th></th><th>N<br>H<br>VH<br>SH</th><th><br>フレスバンクゥの超結界</th><th><br>難：古代都市広域偵察任務<br>難：デェフキュオネ決戦</th><th>-</th></tr>\n",
      "        <tr><th>ヴェンバンクゥ</th><th></th><th></th><th></th><th>N<br>H<br>VH<br>SH</th><th><br>ヴェンバンクゥの硬宝石<br>ヴェンバンクゥの大宝石<br>ヴェンバンクゥの超結界</th><th><br>難：グレイオス攻略任務<br>難：炎の高地殲滅任務<br>難：アルキュオネ攻略任務</th><th>-</th></tr>\n",
      "        <tr><th>トネルバンクゥ</th><th></th><th></th><th></th><th>N<br>H<br>VH<br>SH</th><th>トネルバンクゥの石片<br>トネルバンクゥの超結界</th><th>グラン水源<br>超：氷塊のギガティオン</th><th>-<br>「超：氷塊のギガティオン」での弱点属性は</th></tr>\n",
      "        <tr><th>スォロバンクゥ</th><th></th><th></th><th></th><th>N<br>H<br>VH<br>SH</th><th><br>スォロバンクゥの超結界</th><th>グラン水源<br>難：ギュゲンテ撃破任務<br>超：氷海のエウリュード</th><th>-<br>「超：氷海のエウリュード」での弱点属性は</th></tr>\n",
      "        <tr><th>バンクゥ・フリュ</th><th>なし</th><th></th><th></th><th>N<br>H<br>VH<br>SH</th><th><br>ホワイトチケット</th><th>バンクゥ類のレアエネミー</th><th>-</th></tr>\n",
      "        <tr><th>リバッツ</th><th></th><th></th><th></th><th>N<br>H<br>VH<br>SH</th><th><br>リバッツの超ドリル</th><th><br>難：ヴィヴリュード決戦<br>難：グラン水源殲滅任務</th><th>-</th></tr>\n",
      "        <tr><th>グリバッツ</th><th></th><th></th><th></th><th>N<br>H<br>VH<br>SH</th><th><br>グリバッツの超ドリル</th><th><br>難：ギュゲンテ撃破任務<br>難：グレイオス攻略任務</th><th>-</th></tr>\n",
      "        <tr><th>バリバッツ</th><th></th><th></th><th></th><th>N<br>H<br>VH<br>SH</th><th>バリバッツの墨片<br>バリバッツの墨<br>バリバッツの大目玉<br>バリバッツの超ドリル</th><th><br>難：炎の高地殲滅任務<br>難：アルキュオネ攻略任務<br>超：獄炎のアルキュオネ</th><th>-<br>「超：獄炎のアルキュオネ」での弱点属性は</th></tr>\n",
      "        <tr><th>ブリバッツ</th><th></th><th></th><th></th><th>N<br>H<br>VH<br>SH</th><th><br>ブリバッツの超ドリル</th><th><br>難：古代都市広域偵察任務<br>超:黒炎のアルテイオス<br>超：城壁のヴィヴリュード</th><th>-<br>「超:黒炎のアルテイオス」での弱点属性は</th></tr>\n",
      "        <tr><th>リバッツ・シル</th><th>なし</th><th></th><th></th><th>N<br>H<br>VH<br>SH</th><th></th><th>リバッツ類のレアエネミー</th><th>-</th></tr>\n",
      "        <tr><th>グランブ</th><th></th><th></th><th></th><th>N<br>H<br>VH<br>SH</th><th>グランブの爪片<br>グランブの甲羅<br>グランプの超巻き貝</th><th><br>難：ヴィヴリュード決戦<br>難：グラン水源殲滅任務<br>難：アルキュオネ攻略任務<br>超：獄炎のアルキュオネ</th><th>-<br>「超：獄炎のアルキュオネ」での弱点属性は</th></tr>\n",
      "        <tr><th>ガーグランブ</th><th></th><th></th><th></th><th>N<br>H<br>VH<br>SH</th><th><br>ガーグランプの超巻き貝</th><th><br>難：鋼の荒野走破任務<br>難：グレイオス攻略任務</th><th>-</th></tr>\n",
      "        <tr><th>サフグランブ</th><th></th><th></th><th></th><th>N<br>H<br>VH<br>SH</th><th><br>サフグランプの超巻き貝</th><th><br>超：氷塊のギガティオン</th><th>-<br>「超：氷塊のギガティオン」での弱点属性は</th></tr>\n",
      "        <tr><th>パーグランブ</th><th></th><th></th><th></th><th>N<br>H<br>VH<br>SH</th><th><br>バーグランプの超巻き貝</th><th><br>難：ノヴァ内部哨戒任務<br>超：昏闇のフォンアフォル</th><th>-<br>「超：昏闇のフォンアフォル」での弱点属性は</th></tr>\n",
      "        <tr><th>グランブ・ダイ</th><th>なし</th><th></th><th></th><th>N<br>H<br>VH<br>SH</th><th></th><th>グランブ類のレアエネミー</th><th>-</th></tr>\n",
      "        <tr><th>ミステルン</th><th></th><th>頭部</th><th>なし</th><th>N<br>H<br>VH<br>SH</th><th><br>ミステルンの鋭翼角<br>ミステルンの超単角</th><th>記憶の断片<br>塔の上のユノ<br>大尖塔深部討伐任務<br>コラル・ドラゴン撃破任務<br>難：大尖塔殲滅任務<br>難：グラン水源殲滅任務<br>難：大尖塔殲滅任務<br>超：神雷の磁晶龍</th><th>二つ名:兇星<br>二つ名：兇星<br>「超：神雷の磁晶龍」での弱点属性は</th></tr>\n",
      "        <tr><th>アガミステルン</th><th></th><th>頭部</th><th>なし</th><th>N<br>H<br>VH<br>SH</th><th><br>アガミステルンの鋭翼角<br>アガミステルンの鋭角<br>アガミステルンの超単角</th><th>難：大尖塔殲滅任務<br>難：大尖塔殲滅任務<br>超：尖塔に潜む光線獣</th><th>二つ名:兇星</th></tr>\n",
      "        <tr><th>ラピミステルン</th><th></th><th></th><th></th><th>N<br>H<br>VH<br>SH</th><th><br>ラピミステルンの超単角</th><th><br>超：氷塊のギガティオン</th><th>-<br>「超：氷塊のギガティオン」での弱点属性は</th></tr>\n",
      "        <tr><th>ミステルン・オーロ</th><th></th><th></th><th></th><th>N<br>H<br>VH<br>SH</th><th></th><th>ミステルン類のレアエネミー</th><th>-</th></tr>\n",
      "        <tr><th>ミステルンナイト</th><th></th><th>頭部</th><th>なし</th><th>N<br>H<br>VH<br>-</th><th></th><th><br>★スイーツ・メルヘン</th><th>-<br>アイテムはドロップしないので倒す必要は無い<br>全ダメージ1～2<br>インフェクションを使えば撃破は可能</th></tr>\n",
      "        <tr><th>エデルクリトロ</th><th></th><th>足裏</th><th>なし</th><th>N<br>H<br>VH<br>SH</th><th><br>獰猛な巨大獣・コア<br>エデルクリトロの爪片<br>エデルクリトロの毛皮<br>エデルクリトロの超舌<br>クリトロの超コア</th><th><br>超：氷海のエウリュード<br>超：氷塊のギガティオン</th><th>二つ名:怠帝<br>二つ名：怠帝<br>「超：氷海のエウリュード」での弱点属性は<br>「超：氷塊のギガティオン」での弱点属性は</th></tr>\n",
      "        <tr><th>スマラクリトロ</th><th></th><th>足裏</th><th>なし</th><th>N<br>H<br>VH<br>SH</th><th><br>スマラクリトロの超舌<br>クリトロの超コア</th><th><br>難：グレイオス攻略任務<br>難：グラン水源殲滅任務</th><th>二つ名:怠帝</th></tr>\n",
      "        <tr><th>オーニクリトロ</th><th></th><th>足裏</th><th>なし</th><th>N<br>H<br>VH<br>SH</th><th><br>オーニクリトロの毛皮<br>オーニクリトロの爪<br>オーニクリトロの毛皮<br>クリトロの純コア<br>オーニクリトロの超舌<br>クリトロの超コア</th><th><br>難：古代都市殲滅任務<br>超：激光の装悪鬼</th><th>二つ名:怠帝<br>二つ名：怠帝<br>「超：激光の装悪鬼」での弱点属性は</th></tr>\n",
      "        <tr><th>クリトロ・テュルレ</th><th>なし</th><th></th><th></th><th>N<br>H<br>VH<br>SH</th><th></th><th>クリトロ類のレアエネミー</th><th>-</th></tr>\n",
      "        <tr><th>クリトロクィーン</th><th></th><th>足裏</th><th>なし</th><th>N<br>H<br>VH<br>SH</th><th></th><th>★スイーツ・メルヘン<br>難：グラン水源殲滅任務<br>難：グラン水源殲滅任務</th><th>難：グラン水源殲滅任務ではLv26～Lv96</th></tr>\n",
      "        <tr><th>トルリンプ</th><th></th><th>頭部</th><th>なし</th><th>N<br>H<br>VH<br>SH</th><th><br>トルリンプの超腹ビレ</th><th><br>難：古代都市殲滅任務<br>難：古代都市広域偵察任務<br>超：城壁のヴィヴリュード</th><th>二つ名:装悪鬼</th></tr>\n",
      "        <tr><th>ロウトルリンプ</th><th></th><th>頭部</th><th>なし</th><th>N<br>H<br>VH<br>SH</th><th><br>ロウトルリンプの超腹ビレ</th><th><br>難：炎の高地殲滅任務<br>難：グラヴディオン決戦<br>超：獄炎のアルキュオネ</th><th>二つ名:装悪鬼<br>二つ名：装悪鬼<br>「超：獄炎のアルキュオネ」での弱点属性は</th></tr>\n",
      "        <tr><th>ボルトルリンプ</th><th>なし</th><th>頭部</th><th>なし</th><th>N<br>H<br>VH<br>SH</th><th><br>ボルトルリンブの大胸ビレ<br>ボルトルリンプの超腹ビレ</th><th>難：大尖塔殲滅任務<br>難：大尖塔殲滅任務</th><th>二つ名:装悪鬼</th></tr>\n",
      "        <tr><th>トルリンプ・ゴウル</th><th>なし</th><th></th><th></th><th>N<br>H<br>VH<br>SH</th><th></th><th>トルリンプ類のレアエネミー</th><th>-</th></tr>\n",
      "    </table>\n"
     ]
    },
    {
     "name": "stderr",
     "output_type": "stream",
     "text": [
      "C:\\Users\\kyle\\Anaconda3\\lib\\site-packages\\ipykernel_launcher.py:23: FutureWarning: Method .as_matrix will be removed in a future version. Use .values instead.\n"
     ]
    }
   ],
   "source": [
    "from pandas import*\n",
    "from glob import*\n",
    "\n",
    "def printtag(line,tmp):\n",
    "    tag=\"        <tr>\"\n",
    "    if not line[-1]:\n",
    "        line[-1]=\"-\"\n",
    "\n",
    "    if \"★\" in line[1]:\n",
    "        line[1]=line[1].split(\"★\")[1]\n",
    "    for item in zip(*tmp):\n",
    "        tag+='<th>'+str(item[0])\n",
    "        for name in item[1:]:\n",
    "            if name:\n",
    "                tag+='<br>'+name\n",
    "        tag+='</th>'\n",
    "    tag+=\"</tr>\"\n",
    "\n",
    "    if tmp:\n",
    "        print(tag)\n",
    "\n",
    "for name in sorted(glob(\"./excel/*.xlsx\")):\n",
    "    df=read_excel(name,header=None).fillna(\"\").as_matrix()\n",
    "    \n",
    "    print('    <table border=\"1\" style=\"border-collapse: collapse\">')\n",
    "    \n",
    "    tag=\"        <tr>\"\n",
    "    for h in df[0]:\n",
    "        tag+='<th bgcolor=\"#87cefa\">'+h+'</th>'\n",
    "    tag+=\"</tr>\"\n",
    "    print(tag)\n",
    "    \n",
    "    tmp=[]                \n",
    "    \n",
    "    for line in df[1:]:\n",
    "        if line[0]:\n",
    "            printtag(line,tmp)\n",
    "            tmp=[]\n",
    "            tmp.append(list(line))\n",
    "        else:\n",
    "            tmp.append(list(line))\n",
    "        \n",
    "    printtag(line,tmp)\n",
    "    \n",
    "    print(\"    </table>\")\n",
    "    \n"
   ]
  }
 ],
 "metadata": {
  "kernelspec": {
   "display_name": "'Python Interactive'",
   "language": "python",
   "name": "bf0182e2-02f4-4328-8492-54c29a3d553f"
  },
  "language_info": {
   "codemirror_mode": {
    "name": "ipython",
    "version": 3
   },
   "file_extension": ".py",
   "mimetype": "text/x-python",
   "name": "python",
   "nbconvert_exporter": "python",
   "pygments_lexer": "ipython3",
   "version": "3.7.4"
  }
 },
 "nbformat": 4,
 "nbformat_minor": 2
}
