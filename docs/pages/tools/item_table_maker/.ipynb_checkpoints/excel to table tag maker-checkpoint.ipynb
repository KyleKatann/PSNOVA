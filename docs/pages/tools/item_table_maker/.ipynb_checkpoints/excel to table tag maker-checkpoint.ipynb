{
 "cells": [
  {
   "cell_type": "code",
   "execution_count": 1,
   "metadata": {
    "scrolled": false
   },
   "outputs": [
    {
     "name": "stdout",
     "output_type": "stream",
     "text": [
      "    <table border=\"1\" style=\"border-collapse: collapse\">\n",
      "        <tr><th bgcolor=\"#87cefa\">名称</th><th bgcolor=\"#87cefa\">レアリティ</th><th bgcolor=\"#87cefa\">最大所持数</th><th bgcolor=\"#87cefa\">説明文</th><th bgcolor=\"#87cefa\">効果</th><th bgcolor=\"#87cefa\">必要素材</th><th bgcolor=\"#87cefa\">備考</th></tr>\n",
      "        <tr><th>モノメイト</th><th>1</th><th>10</th><th>アークス御用達の回復剤。<br>使用することでHPが回復する。</th><th>HPが30%回復する</th><th>グランピースx1</th><th>-</th></tr>\n",
      "        <tr><th>ディメイト</th><th>2</th><th>10</th><th>アークス御用達の回復剤。<br>使用することでHPが大きく回復する。</th><th>HPが60%回復する</th><th>グランピースx2</th><th>-</th></tr>\n",
      "        <tr><th>トリメイト</th><th>3</th><th>10</th><th>アークス御用達の回復剤。<br>使用することでHPが全回復する。</th><th>HPが100%回復する</th><th>グランピースx3</th><th>-</th></tr>\n",
      "        <tr><th>ソルアトマイザー</th><th>2</th><th>5</th><th>広範囲に及ぶ状態異常用の治療薬<br>使用した者と、周囲にいる味方の<br>状態異常を回復する。</th><th>自分と近くにいる仲間の状態異常を回復</th><th>グランピースx2</th><th>-</th></tr>\n",
      "        <tr><th>ムーンアトマイザー</th><th>3</th><th>5</th><th>広範囲に及ぶ復活薬。<br>使用した者の周囲にいる戦闘不能状態の<br>味方を復活させることができる。</th><th>周囲のHP0の仲間全員をHP半分で蘇生する</th><th>グランピースx3</th><th>-</th></tr>\n",
      "        <tr><th>スケープドール</th><th>5</th><th>5</th><th>自立起動の自己復活用アイテム。<br>所持者が戦闘不能になった際に<br>一度だけ身代わりになってくれる。</th><th>所持しているとHPが0になった時に使用することができ、<br>使用するとHPが全回復する<br>サブパレットには登録できない</th><th>グランピースx3</th><th>-</th></tr>\n",
      "        <tr><th>シフタライド</th><th>2</th><th>5</th><th>広範囲に及ぶ攻撃強化剤<br>使用した者と、周囲にいる味方の<br>攻撃力を強化する。</th><th>自分と近くにいる仲間にシフタ効果<br>体験版では未登場</th><th>グランピースx2</th><th>-</th></tr>\n",
      "        <tr><th>デバンライド</th><th>2</th><th>5</th><th>広範囲に及ぶ防御強化剤<br>使用した者と、周囲にいる味方の<br>防御力を強化する。</th><th>自分と近くにいる仲間にデバンド効果</th><th>グランピースx2</th><th>-</th></tr>\n",
      "        <tr><th>EXPブースト+100%</th><th></th><th>99</th><th></th><th>クエスト中に敵撃破で獲得した経験値が2倍になる シングルプレイのクエスト出発後に使用でき、30分経過かクエスト終了で効果が切れる。</th><th></th><th>マルチプレイでは使用不可。DLC受け取りしたはずのEXPブーストのどれかをDLしていない状態だと全てのブーストアイテムが使用不可になる。 DLしなおすことで使用可能。</th></tr>\n",
      "    </table>\n"
     ]
    },
    {
     "name": "stderr",
     "output_type": "stream",
     "text": [
      "C:\\Users\\kyle\\Anaconda3\\lib\\site-packages\\ipykernel_launcher.py:23: FutureWarning: Method .as_matrix will be removed in a future version. Use .values instead.\n"
     ]
    }
   ],
   "source": [
    "from pandas import*\n",
    "from glob import*\n",
    "\n",
    "def printtag(line,tmp):\n",
    "    tag=\"        <tr>\"\n",
    "    if not line[-1]:\n",
    "        line[-1]=\"-\"\n",
    "\n",
    "    if \"★\" in line[1]:\n",
    "        line[1]=line[1].split(\"★\")[1]\n",
    "    for item in zip(*tmp):\n",
    "        tag+='<th>'+str(item[0])\n",
    "        for name in item[1:]:\n",
    "            if name:\n",
    "                tag+='<br>'+name\n",
    "        tag+='</th>'\n",
    "    tag+=\"</tr>\"\n",
    "\n",
    "    if tmp:\n",
    "        print(tag)\n",
    "\n",
    "for name in sorted(glob(\"./excel/*.xlsx\")):\n",
    "    df=read_excel(name,header=None).fillna(\"\").as_matrix()\n",
    "    \n",
    "    print('    <table border=\"1\" style=\"border-collapse: collapse\">')\n",
    "    \n",
    "    tag=\"        <tr>\"\n",
    "    for h in df[0]:\n",
    "        tag+='<th bgcolor=\"#87cefa\">'+h+'</th>'\n",
    "    tag+=\"</tr>\"\n",
    "    print(tag)\n",
    "    \n",
    "    tmp=[]                \n",
    "    \n",
    "    for line in df[1:]:\n",
    "        if line[0]:\n",
    "            printtag(line,tmp)\n",
    "            tmp=[]\n",
    "            tmp.append(list(line))\n",
    "        else:\n",
    "            tmp.append(list(line))\n",
    "        \n",
    "    printtag(line,tmp)\n",
    "    \n",
    "    print(\"    </table>\")\n",
    "    \n"
   ]
  }
 ],
 "metadata": {
  "kernelspec": {
   "display_name": "'Python Interactive'",
   "language": "python",
   "name": "bf0182e2-02f4-4328-8492-54c29a3d553f"
  },
  "language_info": {
   "codemirror_mode": {
    "name": "ipython",
    "version": 3
   },
   "file_extension": ".py",
   "mimetype": "text/x-python",
   "name": "python",
   "nbconvert_exporter": "python",
   "pygments_lexer": "ipython3",
   "version": "3.7.4"
  }
 },
 "nbformat": 4,
 "nbformat_minor": 2
}
