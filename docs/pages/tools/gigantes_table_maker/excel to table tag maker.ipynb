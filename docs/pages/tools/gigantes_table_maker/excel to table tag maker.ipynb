{
 "cells": [
  {
   "cell_type": "code",
   "execution_count": 1,
   "metadata": {
    "scrolled": false
   },
   "outputs": [
    {
     "name": "stdout",
     "output_type": "stream",
     "text": [
      "    <table border=\"1\" style=\"border-collapse: collapse\">\n",
      "        <tr><th bgcolor=\"#87cefa\">種別</th><th bgcolor=\"#87cefa\">名前</th><th bgcolor=\"#87cefa\">弱点属性</th><th bgcolor=\"#87cefa\">捕獲</th><th bgcolor=\"#87cefa\">ギガンテスブラスト</th><th bgcolor=\"#87cefa\">備考</th><th bgcolor=\"#87cefa\">難易度SH以降での出現クエスト</th></tr>\n",
      "        <tr><th>アグリオス種</th><th>アグリオス<br>グレイオス<br>アルテイオス</th><th> 風<br> 氷<br> 光</th><th>◯<br>◯<br>◯</th><th>アグリカノーネ<br>広範囲主砲攻撃<br>グレイホルン<br>広範囲放電攻撃<br>アルトカノーネ<br>広範囲主砲攻撃</th><th>P型はアグリオス扱い<br>「超：猛攻のグレイオス」、「極：押し寄せるギガンテス」ではS型が出現する<br>(モーション速度強化型)<br>「超：黒炎のアルテイオス」での弱点属性は 氷<br>「極：侵食する虚の骸」ではU型が出現する(状態異常特化型)</th><th>難：鉱脈発見任務<br>難：大尖塔資材回収任務<br>極：押し寄せるギガンテス<br>難：グレイオス攻略任務<br>超：猛攻のグレイオス<br>極：押し寄せるギガンテス<br>難：★ラスト・デート<br>難：アルテイオス決戦<br>超：デス・デート<br>超：黒炎のアルテイオス<br>極：侵食する虚の骸</th></tr>\n",
      "        <tr><th>ガラティオン種</th><th>ガラティオン<br>ギガティオン<br>グラヴディオン</th><th> 闇<br> 炎<br> 風</th><th>◯<br>◯<br>◯</th><th>ガラテエーレ<br>蘇生、HP・状態異常回復、<br>シフタ・デバンド<br>ギガシュトルム<br>チェーンソーでの切り裂き攻撃<br>グラヴシュトルム<br>チェーンソーでの切り裂き攻撃</th><th><br>「果たすべき使命」に出現<br>「極：漆黒の鉄馬と光線獣」ではU型が出現する(状態異常特化型)</th><th>難：鋼の荒野連続撃破任務<br>超：光と風の支配者<br>超:氷塊のギガティオン<br>難：★ラスト・デート<br>難：グラヴディオン決戦<br>超：デス・デート<br>極：漆黒の鉄馬と光線獣</th></tr>\n",
      "        <tr><th>エウリュード種</th><th>エウリュード<br>ヴィヴリュード</th><th> 雷<br> 光</th><th>◯<br>◯</th><th>エウルスタンプ<br>衝撃波なぎ払い攻撃<br>ヴィヴシュラック<br>多弾頭ミサイル全方位攻撃</th><th>「超：氷海のエウリュード」での弱点属性は 炎<br>「超：城壁のヴィヴリュード」ではS型が出現する(モーション速度強化型)<br>「極：弾雨下の回収作戦」ではW型が出現する(氷＋闇属性強化型)</th><th>難：鋼の荒野連続撃破任務<br>難：エウリュード攻略任務<br>超：光と風の支配者<br>超：氷海のエウリュード<br>難：★ラスト・デート<br>難：ヴィヴリュード決戦<br>超：デス・デート<br>超：城壁のヴィヴリュード</th></tr>\n",
      "        <tr><th>アルキュオネ種</th><th>アルキュオネ<br>デェフキュオネ</th><th> 氷<br> 闇</th><th>◯<br>◯</th><th>アルキュインフェアノ<br>特大火炎弾<br>デェフヴォルカン<br>煙幕弾：ブラインド付与</th><th><br>「極：棘と大火球の輪舞曲」ではW型が出現する(炎＋光属性強化型)</th><th>難：アルキュオネ攻略任務<br>難：大尖塔資材回収任務<br>超：獄炎のアルキュオネ<br>難：★ラスト・デート<br>難：デェフキュオネ決戦<br>超：デス・デート<br>極：棘と大火球の輪舞曲</th></tr>\n",
      "        <tr><th>ギュゲンテ種</th><th>ギュゲンテ<br>リベルゲンテ</th><th> 炎<br> 雷</th><th>×<br>×</th><th>-<br>-</th><th></th><th>難：ギュゲンテ撃破任務<br>難：リベルゲンテ決戦</th></tr>\n",
      "        <tr><th>レイヴガイスト種</th><th>レイブヒュフテ(第一段階)<br>レイヴガイスト(第二段階)<br>ネメスフース(第一段階)<br>ネメスヒュフテ(第二段階)<br>ネメスガイスト(第三段階)</th><th> 光<br> 光<br> 雷<br> 氷<br> 闇</th><th>×<br>×<br>×<br>×<br>×</th><th>-<br>-<br>-<br>-<br>-</th><th><br>HP減少後、風属性に弱点が変化<br>HP減少後、炎属性に弱点が変化<br>HP減少後、光属性に弱点が変化</th><th>難：レイヴガイスト決戦<br>難：レイヴガイスト決戦<br>極：魂の解放<br>極：魂の解放<br>極：魂の解放</th></tr>\n",
      "    </table>\n",
      "    <table border=\"1\" style=\"border-collapse: collapse\">\n",
      "        <tr><th bgcolor=\"#87cefa\">種別</th><th bgcolor=\"#87cefa\">名前</th><th bgcolor=\"#87cefa\">弱点属性</th><th bgcolor=\"#87cefa\">備考</th><th bgcolor=\"#87cefa\">難易度SH以降での出現クエスト</th></tr>\n",
      "        <tr><th>トアス種</th><th>ディートアス<br>テュルトアス<br>マグネトアス<br>トアス・ヒュブオン<br>ノイヴァトアス</th><th> 氷<br> 炎<br>無し<br>無し<br> 風</th><th><br>トアス種のレアエネミー</th><th>難：グラン水源哨戒任務<br>難：グラン水源殲滅任務<br>超：尖塔に潜む光線獣<br>難：古代都市殲滅任務<br>超：尖塔に潜む光線獣<br>極：棘と大火球の輪舞曲<br>極：伏す猛銃と天舞う砲凰<br>難：★ラスト・デート<br>超：尖塔に潜む光線獣<br>超：ウィルアフォルの巣<br>ノイヴァトアス以外の種の出現場所に準ずる<br>超：デス・デート<br>超：城塞のヴィヴリュード<br>超：尖塔に潜む光線獣<br>極：漆黒の鉄馬と光線獣</th></tr>\n",
      "        <tr><th>ゴルドス種</th><th>ゴルドス<br>オルゴルドス<br>ディゴルドス<br>ゴルドス・ビガオ<br>ヴァリゴルドス</th><th> 雷<br> 雷<br> 雷<br>無し<br>無し</th><th><br>ゴルドス種のレアエネミー</th><th>難：鉱脈発見任務<br>難：グラン水源哨戒任務<br>難：ヴィヴィリュード決戦<br>難：ノヴァ内部哨戒任務<br>難：★ラスト・デート<br>難：大尖塔殲滅任務<br>ヴァリゴルドス以外の種の出現場所に準ずる<br>超：棘の嵐<br>超：デス・デート<br>極：棘と大火球の輪舞曲</th></tr>\n",
      "        <tr><th>アフォル種</th><th>ファンアフォル<br>ウィルアフォル</th><th> 氷<br> 炎</th><th>「超：昏闇のファンアフォル」での弱点属性は 光</th><th>超：昏闇のファンアフォル<br>超：ウィルアフォルの巣<br>極：伏す猛銃と天舞う砲凰</th></tr>\n",
      "    </table>\n"
     ]
    },
    {
     "name": "stderr",
     "output_type": "stream",
     "text": [
      "C:\\Users\\kyle\\Anaconda3\\lib\\site-packages\\ipykernel_launcher.py:23: FutureWarning: Method .as_matrix will be removed in a future version. Use .values instead.\n"
     ]
    }
   ],
   "source": [
    "from pandas import*\n",
    "from glob import*\n",
    "\n",
    "def printtag(line,tmp):\n",
    "    tag=\"        <tr>\"\n",
    "    if not line[-1]:\n",
    "        line[-1]=\"-\"\n",
    "\n",
    "    if \"★\" in line[1]:\n",
    "        line[1]=line[1].split(\"★\")[1]\n",
    "    for item in zip(*tmp):\n",
    "        tag+='<th>'+str(item[0])\n",
    "        for name in item[1:]:\n",
    "            if name:\n",
    "                tag+='<br>'+name\n",
    "        tag+='</th>'\n",
    "    tag+=\"</tr>\"\n",
    "\n",
    "    if tmp:\n",
    "        print(tag)\n",
    "\n",
    "for name in sorted(glob(\"./excel/*.xlsx\")):\n",
    "    df=read_excel(name,header=None).fillna(\"\").as_matrix()\n",
    "    \n",
    "    print('    <table border=\"1\" style=\"border-collapse: collapse\">')\n",
    "    \n",
    "    tag=\"        <tr>\"\n",
    "    for h in df[0]:\n",
    "        tag+='<th bgcolor=\"#87cefa\">'+h+'</th>'\n",
    "    tag+=\"</tr>\"\n",
    "    print(tag)\n",
    "    \n",
    "    tmp=[]                \n",
    "    \n",
    "    for line in df[1:]:\n",
    "        if line[0]:\n",
    "            printtag(line,tmp)\n",
    "            tmp=[]\n",
    "            tmp.append(list(line))\n",
    "        else:\n",
    "            tmp.append(list(line))\n",
    "        \n",
    "    printtag(line,tmp)\n",
    "    \n",
    "    print(\"    </table>\")\n",
    "    \n"
   ]
  }
 ],
 "metadata": {
  "kernelspec": {
   "display_name": "'Python Interactive'",
   "language": "python",
   "name": "bf0182e2-02f4-4328-8492-54c29a3d553f"
  },
  "language_info": {
   "codemirror_mode": {
    "name": "ipython",
    "version": 3
   },
   "file_extension": ".py",
   "mimetype": "text/x-python",
   "name": "python",
   "nbconvert_exporter": "python",
   "pygments_lexer": "ipython3",
   "version": "3.7.4"
  }
 },
 "nbformat": 4,
 "nbformat_minor": 2
}
