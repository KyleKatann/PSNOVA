{
 "cells": [
  {
   "cell_type": "code",
   "execution_count": 30,
   "metadata": {},
   "outputs": [
    {
     "name": "stdout",
     "output_type": "stream",
     "text": [
      "<table border=\"1\" style=\"border-collapse: collapse\">\n",
      "    <tr><th bgcolor=\"#87cefa\">名前</th><th bgcolor=\"#87cefa\">レアリティ</th><th bgcolor=\"#87cefa\">基礎打撃力</th><th bgcolor=\"#87cefa\">必要素材</th><th bgcolor=\"#87cefa\">備考</th></tr>\n",
      "    <tr><th>ダブルセイバー</th><th>1</th><th>77</th><th>ダーカー・コアx1<br>ラウーダンの爪片x1<br>白い岩石x1</th><th>-</th></tr>\n",
      "    <tr><th>アルバDバスター</th><th>2</th><th>239</th><th>巨大獣・コアx1<br>Ｇプレディカーダの刃片x1<br>樹木状の鉱物x2</th><th>-</th></tr>\n",
      "    <tr><th>ヴィタDラッシュ</th><th>3</th><th>412</th><th>大型兵器・コア×1<br>マフレザールの皮片×1<br>樹木状の鉱物×2</th><th>-</th></tr>\n",
      "    <tr><th>ダブルレイピア</th><th>4</th><th>584</th><th>巨大獣・コア×1<br>アグリオスの砲片×2<br>青い鉱石×2<br>バンサーの頭角×1</th><th>-</th></tr>\n",
      "    <tr><th>ダブルグラディウス</th><th>4</th><th>649</th><th>大型兵器・コア×1<br>アルキュオネの手片×2<br>凍った葉×2<br>コパイエーデンの爪片×1</th><th>-</th></tr>\n",
      "    <tr><th>ラムダスピルティア</th><th>5</th><th>715</th><th>巨大獣・コアx1<br>ロウトルリンプの胸ビレx3<br>フォンベガルフの牙片x3<br>赤い樹枝x2</th><th>-</th></tr>\n",
      "    <tr><th>ダブルセイバーレガシー</th><th>5</th><th>804</th><th>ギガンテス・コア×1<br>アグリオスの砲片×3<br>樹木状の鉱物×3<br>ギガンテスのレーザー片×2<br>ギガンテスのクラッカー片×2</th><th>-</th></tr>\n",
      "    <tr><th>ニョイボウ</th><th>6</th><th>839</th><th>漆黒のダーカー・コア×1<br>ギュゲンテの装甲×3<br>樹木状の鉱物×3<br>Gウォルガーダのヒレ片×2</th><th>-</th></tr>\n",
      "    <tr><th>ガッドレイ</th><th>6</th><th>872</th><th>ギガンテス・コアx1<br>ウッドオパールx3<br>ラピリストーンx3<br>ペロブスカイト石x2</th><th>-</th></tr>\n",
      "    <tr><th>フェザーエッジ</th><th>7</th><th>961</th><th>獰猛な巨大獣・コアx1<br>ポリジュラキアの骨x3<br>透き通る珪化木x3<br>Gエル・アーダの羽根x3<br>ギガンテスのレーザー片x2</th><th>-</th></tr>\n",
      "    <tr><th>クロゼイド</th><th>7</th><th>1074</th><th>レイバンサーの純コアx1<br>クロザードのヒレx3<br>クロザードの爪x3<br>天然樹木x3</th><th>-</th></tr>\n",
      "    <tr><th>ヘルフレット</th><th>8</th><th>1187</th><th>ガラティオンの純コアx1<br>Gプレディカーダの鋭腕刃x3<br>ウイマフレザールの鋭鉤爪x3<br>多積層の鋼板x3<br>ギガンテスのミサイル片x2</th><th>-</th></tr>\n",
      "    <tr><th>フェイルノート</th><th>8</th><th>1233</th><th>Gダーク・ラグネの純コアx1<br>デェフキュオネの触手x3<br>メドジュラキアの硬骨x3<br>多積層の鋼板x3</th><th>-</th></tr>\n",
      "    <tr><th>ツインブランド</th><th>9</th><th>1442</th><th>エウリュードの純コアx1<br>バンサーの鋭頭角x3<br>ラピミステルンの鋭翼角x3<br>パイロープ結晶体x3<br>朽ちない黒い鉄柱x2</th><th>-</th></tr>\n",
      "    <tr><th>フォルティミーラー</th><th>9</th><th>1338</th><th>エウリュードの純コアx1<br>ガラティオンの硬骨格x3<br>ディートアスの大吸引袋x3<br>鈍く光るコランダム塊x3</th><th>-</th></tr>\n",
      "    <tr><th>エクセランブレード</th><th>10</th><th>1490</th><th>ギガティオンの純コアx1<br>ヴァッドギオスの硬装甲x3<br>ノイバリドランナの鋭爪x3<br>パイロープ結晶体x3<br>ギガンテスのクラッカー片x2</th><th>-</th></tr>\n",
      "    <tr><th>アルキュレイバー</th><th>10</th><th>1700</th><th>アルキュオネの純コアx1<br>レイヴガイストの硬仮面x3<br>デェフキュオネの大墨袋x3<br>アルキュオネの硬肩部装甲x3<br>アルキュオネの墨袋x3</th><th>-</th></tr>\n",
      "    <tr><th>ゴルトレック</th><th>10</th><th>1601</th><th>ゴルドスの純コアx1<br>ラーバレダイナスの大照準x3<br>ゴルドスの鋭攻撃杭x3<br>ディゴルドスの鋭攻撃杭x3</th><th>-</th></tr>\n",
      "    <tr><th>スピルティア</th><th>11</th><th>2770</th><th>レイバンサーの超コアx1<br>スマラクリトロの超舌x4<br>Gシャルレイダの超甲羅x4<br>ユークレースx3</th><th>-</th></tr>\n",
      "    <tr><th>サンセツコン</th><th>11</th><th>2770</th><th>グレイオスの超コアx1<br>グランブの超巻き貝x4<br>グリバッツの硬翼膜x5<br>バンクゥの硬宝石x5<br>アテレスタイトx4</th><th>-</th></tr>\n",
      "    <tr><th>スタッグカットラリ</th><th>12</th><th>3181</th><th>Gプレディカーダの超コアx1<br>ホワイトチケットx3<br>Gプレディカーダの超腕刃x3<br>Gシャルレイダの超甲羅x4<br>漆黒のウォールサイトx3</th><th>-</th></tr>\n",
      "</table>\n"
     ]
    },
    {
     "name": "stderr",
     "output_type": "stream",
     "text": [
      "C:\\Users\\kyle\\Anaconda3\\lib\\site-packages\\ipykernel_launcher.py:4: FutureWarning: Method .as_matrix will be removed in a future version. Use .values instead.\n",
      "  after removing the cwd from sys.path.\n"
     ]
    }
   ],
   "source": [
    "from pandas import*\n",
    "from glob import*\n",
    "for name in glob(\"./weapon/*.xlsx\"):\n",
    "    df=read_excel(name,header=None).fillna(\"\").as_matrix()\n",
    "    print('<table border=\"1\" style=\"border-collapse: collapse\">')\n",
    "    \n",
    "    tag=\"    <tr>\"\n",
    "    for h in df[0]:\n",
    "        tag+='<th bgcolor=\"#87cefa\">'+h+'</th>'\n",
    "    tag+=\"</tr>\"\n",
    "    print(tag)\n",
    "    \n",
    "    tmp=[]\n",
    "    for line in df[1:]:\n",
    "        if line[0]:\n",
    "            #使いまわし\n",
    "            tag=\"    <tr>\"\n",
    "            line[-1]=\"-\"\n",
    "                \n",
    "            if \"★\" in line[1]:\n",
    "                line[1]=line[1].split(\"★\")[1]\n",
    "            for item in zip(*tmp):\n",
    "                tag+='<th>'+str(item[0])\n",
    "                for name in item[1:]:\n",
    "                    if name:\n",
    "                        tag+='<br>'+name\n",
    "                tag+='</th>'\n",
    "            tag+=\"</tr>\"\n",
    "            #使いまわし終わり\n",
    "\n",
    "            if tmp:\n",
    "                print(tag)\n",
    "            \n",
    "            tmp=[]\n",
    "            tmp.append(list(line))\n",
    "        else:\n",
    "            tmp.append(list(line))\n",
    "        #使いまわし\n",
    "        tag=\"    <tr>\"\n",
    "        line[-1]=\"-\"\n",
    "\n",
    "        if \"★\" in line[1]:\n",
    "            line[1]=line[1].split(\"★\")[1]\n",
    "        for item in zip(*tmp):\n",
    "            tag+='<th>'+str(item[0])\n",
    "            for name in item[1:]:\n",
    "                if name:\n",
    "                    tag+='<br>'+name\n",
    "            tag+='</th>'\n",
    "        tag+=\"</tr>\"\n",
    "        #使いまわし終わり\n",
    "    \n",
    "    print(\"</table>\")\n",
    "    \n",
    "    break"
   ]
  }
 ],
 "metadata": {
  "kernelspec": {
   "display_name": "'Python Interactive'",
   "language": "python",
   "name": "bf0182e2-02f4-4328-8492-54c29a3d553f"
  },
  "language_info": {
   "codemirror_mode": {
    "name": "ipython",
    "version": 3
   },
   "file_extension": ".py",
   "mimetype": "text/x-python",
   "name": "python",
   "nbconvert_exporter": "python",
   "pygments_lexer": "ipython3",
   "version": "3.7.5"
  }
 },
 "nbformat": 4,
 "nbformat_minor": 2
}
