{
 "cells": [
  {
   "cell_type": "code",
   "execution_count": 8,
   "metadata": {
    "scrolled": false
   },
   "outputs": [
    {
     "name": "stdout",
     "output_type": "stream",
     "text": [
      "<a href=\"./psnova\\NPC - ファンタシースターノヴァ PSNOVA 攻略Wiki.html\">NPC - ファンタシースターノヴァ PSNOVA 攻略Wiki</a></br>\n",
      "<a href=\"./psnova\\よくある質問 - ファンタシースターノヴァ PSNOVA 攻略Wiki.html\">よくある質問 - ファンタシースターノヴァ PSNOVA 攻略Wiki</a></br>\n",
      "<a href=\"./psnova\\アイテム - ファンタシースターノヴァ PSNOVA 攻略Wiki.html\">アイテム - ファンタシースターノヴァ PSNOVA 攻略Wiki</a></br>\n",
      "<a href=\"./psnova\\アクセサリー - ファンタシースターノヴァ PSNOVA 攻略Wiki.html\">アクセサリー - ファンタシースターノヴァ PSNOVA 攻略Wiki</a></br>\n",
      "<a href=\"./psnova\\アサルトライフル - ファンタシースターノヴァ PSNOVA 攻略Wiki.html\">アサルトライフル - ファンタシースターノヴァ PSNOVA 攻略Wiki</a></br>\n",
      "<a href=\"./psnova\\アタッチメント - ファンタシースターノヴァ PSNOVA 攻略Wiki.html\">アタッチメント - ファンタシースターノヴァ PSNOVA 攻略Wiki</a></br>\n",
      "<a href=\"./psnova\\ウォンド - ファンタシースターノヴァ PSNOVA 攻略Wiki.html\">ウォンド - ファンタシースターノヴァ PSNOVA 攻略Wiki</a></br>\n",
      "<a href=\"./psnova\\キャスト - ファンタシースターノヴァ PSNOVA 攻略Wiki.html\">キャスト - ファンタシースターノヴァ PSNOVA 攻略Wiki</a></br>\n",
      "<a href=\"./psnova\\キャラクタークリエイト - ファンタシースターノヴァ PSNOVA 攻略Wiki.html\">キャラクタークリエイト - ファンタシースターノヴァ PSNOVA 攻略Wiki</a></br>\n",
      "<a href=\"./psnova\\ギガンテス - ファンタシースターノヴァ PSNOVA 攻略Wiki.html\">ギガンテス - ファンタシースターノヴァ PSNOVA 攻略Wiki</a></br>\n",
      "<a href=\"./psnova\\グランアーツ_アサルトライフル系 - ファンタシースターノヴァ PSNOVA 攻略Wiki.html\">グランアーツ_アサルトライフル系 - ファンタシースターノヴァ PSNOVA 攻略Wiki</a></br>\n",
      "<a href=\"./psnova\\グランアーツ_ソード系 - ファンタシースターノヴァ PSNOVA 攻略Wiki.html\">グランアーツ_ソード系 - ファンタシースターノヴァ PSNOVA 攻略Wiki</a></br>\n",
      "<a href=\"./psnova\\グランアーツ_ダブルセイバー系 - ファンタシースターノヴァ PSNOVA 攻略Wiki.html\">グランアーツ_ダブルセイバー系 - ファンタシースターノヴァ PSNOVA 攻略Wiki</a></br>\n",
      "<a href=\"./psnova\\グランアーツ_ツインマシンガン系 - ファンタシースターノヴァ PSNOVA 攻略Wiki.html\">グランアーツ_ツインマシンガン系 - ファンタシースターノヴァ PSNOVA 攻略Wiki</a></br>\n",
      "<a href=\"./psnova\\グランアーツ_ナックル系 - ファンタシースターノヴァ PSNOVA 攻略Wiki.html\">グランアーツ_ナックル系 - ファンタシースターノヴァ PSNOVA 攻略Wiki</a></br>\n",
      "<a href=\"./psnova\\グランアーツ_パイル系 - ファンタシースターノヴァ PSNOVA 攻略Wiki.html\">グランアーツ_パイル系 - ファンタシースターノヴァ PSNOVA 攻略Wiki</a></br>\n",
      "<a href=\"./psnova\\グランアーツ_パルチザン系 - ファンタシースターノヴァ PSNOVA 攻略Wiki.html\">グランアーツ_パルチザン系 - ファンタシースターノヴァ PSNOVA 攻略Wiki</a></br>\n",
      "<a href=\"./psnova\\グランアーツ_ヘイロウ系 - ファンタシースターノヴァ PSNOVA 攻略Wiki.html\">グランアーツ_ヘイロウ系 - ファンタシースターノヴァ PSNOVA 攻略Wiki</a></br>\n",
      "<a href=\"./psnova\\グラン水源 - ファンタシースターノヴァ PSNOVA 攻略Wiki.html\">グラン水源 - ファンタシースターノヴァ PSNOVA 攻略Wiki</a></br>\n",
      "<a href=\"./psnova\\コスチューム - ファンタシースターノヴァ PSNOVA 攻略Wiki.html\">コスチューム - ファンタシースターノヴァ PSNOVA 攻略Wiki</a></br>\n",
      "<a href=\"./psnova\\コールドスリープ - ファンタシースターノヴァ PSNOVA 攻略Wiki.html\">コールドスリープ - ファンタシースターノヴァ PSNOVA 攻略Wiki</a></br>\n",
      "<a href=\"./psnova\\シールドユニット - ファンタシースターノヴァ PSNOVA 攻略Wiki.html\">シールドユニット - ファンタシースターノヴァ PSNOVA 攻略Wiki</a></br>\n",
      "<a href=\"./psnova\\スキル - ファンタシースターノヴァ PSNOVA 攻略Wiki.html\">スキル - ファンタシースターノヴァ PSNOVA 攻略Wiki</a></br>\n",
      "<a href=\"./psnova\\ソード - ファンタシースターノヴァ PSNOVA 攻略Wiki.html\">ソード - ファンタシースターノヴァ PSNOVA 攻略Wiki</a></br>\n",
      "<a href=\"./psnova\\タリス - ファンタシースターノヴァ PSNOVA 攻略Wiki.html\">タリス - ファンタシースターノヴァ PSNOVA 攻略Wiki</a></br>\n",
      "<a href=\"./psnova\\ダウンロードコンテンツ - ファンタシースターノヴァ PSNOVA 攻略Wiki.html\">ダウンロードコンテンツ - ファンタシースターノヴァ PSNOVA 攻略Wiki</a></br>\n",
      "<a href=\"./psnova\\ダブルセイバー - ファンタシースターノヴァ PSNOVA 攻略Wiki.html\">ダブルセイバー - ファンタシースターノヴァ PSNOVA 攻略Wiki</a></br>\n",
      "<a href=\"./psnova\\ツインマシンガン - ファンタシースターノヴァ PSNOVA 攻略Wiki.html\">ツインマシンガン - ファンタシースターノヴァ PSNOVA 攻略Wiki</a></br>\n",
      "<a href=\"./psnova\\テクニック - ファンタシースターノヴァ PSNOVA 攻略Wiki.html\">テクニック - ファンタシースターノヴァ PSNOVA 攻略Wiki</a></br>\n",
      "<a href=\"./psnova\\テクニック_光属性 - ファンタシースターノヴァ PSNOVA 攻略Wiki.html\">テクニック_光属性 - ファンタシースターノヴァ PSNOVA 攻略Wiki</a></br>\n",
      "<a href=\"./psnova\\テクニック_氷属性 - ファンタシースターノヴァ PSNOVA 攻略Wiki.html\">テクニック_氷属性 - ファンタシースターノヴァ PSNOVA 攻略Wiki</a></br>\n",
      "<a href=\"./psnova\\テクニック_炎属性 - ファンタシースターノヴァ PSNOVA 攻略Wiki.html\">テクニック_炎属性 - ファンタシースターノヴァ PSNOVA 攻略Wiki</a></br>\n",
      "<a href=\"./psnova\\テクニック_闇属性 - ファンタシースターノヴァ PSNOVA 攻略Wiki.html\">テクニック_闇属性 - ファンタシースターノヴァ PSNOVA 攻略Wiki</a></br>\n",
      "<a href=\"./psnova\\テクニック_雷属性 - ファンタシースターノヴァ PSNOVA 攻略Wiki.html\">テクニック_雷属性 - ファンタシースターノヴァ PSNOVA 攻略Wiki</a></br>\n",
      "<a href=\"./psnova\\テクニック_風属性 - ファンタシースターノヴァ PSNOVA 攻略Wiki.html\">テクニック_風属性 - ファンタシースターノヴァ PSNOVA 攻略Wiki</a></br>\n",
      "<a href=\"./psnova\\トロフィー - ファンタシースターノヴァ PSNOVA 攻略Wiki.html\">トロフィー - ファンタシースターノヴァ PSNOVA 攻略Wiki</a></br>\n",
      "<a href=\"./psnova\\ナックル - ファンタシースターノヴァ PSNOVA 攻略Wiki.html\">ナックル - ファンタシースターノヴァ PSNOVA 攻略Wiki</a></br>\n",
      "<a href=\"./psnova\\ニューマン - ファンタシースターノヴァ PSNOVA 攻略Wiki.html\">ニューマン - ファンタシースターノヴァ PSNOVA 攻略Wiki</a></br>\n",
      "<a href=\"./psnova\\ノヴァ内部 - ファンタシースターノヴァ PSNOVA 攻略Wiki.html\">ノヴァ内部 - ファンタシースターノヴァ PSNOVA 攻略Wiki</a></br>\n",
      "<a href=\"./psnova\\ハンター - ファンタシースターノヴァ PSNOVA 攻略Wiki.html\">ハンター - ファンタシースターノヴァ PSNOVA 攻略Wiki</a></br>\n",
      "<a href=\"./psnova\\バスター - ファンタシースターノヴァ PSNOVA 攻略Wiki.html\">バスター - ファンタシースターノヴァ PSNOVA 攻略Wiki</a></br>\n",
      "<a href=\"./psnova\\パイル - ファンタシースターノヴァ PSNOVA 攻略Wiki.html\">パイル - ファンタシースターノヴァ PSNOVA 攻略Wiki</a></br>\n",
      "<a href=\"./psnova\\パスワード - ファンタシースターノヴァ PSNOVA 攻略Wiki.html\">パスワード - ファンタシースターノヴァ PSNOVA 攻略Wiki</a></br>\n",
      "<a href=\"./psnova\\パルチザン - ファンタシースターノヴァ PSNOVA 攻略Wiki.html\">パルチザン - ファンタシースターノヴァ PSNOVA 攻略Wiki</a></br>\n",
      "<a href=\"./psnova\\ヒューマン - ファンタシースターノヴァ PSNOVA 攻略Wiki.html\">ヒューマン - ファンタシースターノヴァ PSNOVA 攻略Wiki</a></br>\n",
      "<a href=\"./psnova\\ファンタシースターノヴァ PSNOVA 攻略Wiki.html\">ファンタシースターノヴァ PSNOVA 攻略Wiki</a></br>\n",
      "<a href=\"./psnova\\フォース - ファンタシースターノヴァ PSNOVA 攻略Wiki.html\">フォース - ファンタシースターノヴァ PSNOVA 攻略Wiki</a></br>\n",
      "<a href=\"./psnova\\プロミスオーダー - ファンタシースターノヴァ PSNOVA 攻略Wiki.html\">プロミスオーダー - ファンタシースターノヴァ PSNOVA 攻略Wiki</a></br>\n",
      "<a href=\"./psnova\\ヘアスタイル - ファンタシースターノヴァ PSNOVA 攻略Wiki.html\">ヘアスタイル - ファンタシースターノヴァ PSNOVA 攻略Wiki</a></br>\n",
      "<a href=\"./psnova\\ヘイロウ - ファンタシースターノヴァ PSNOVA 攻略Wiki.html\">ヘイロウ - ファンタシースターノヴァ PSNOVA 攻略Wiki</a></br>\n",
      "<a href=\"./psnova\\レンジャー - ファンタシースターノヴァ PSNOVA 攻略Wiki.html\">レンジャー - ファンタシースターノヴァ PSNOVA 攻略Wiki</a></br>\n",
      "<a href=\"./psnova\\ロッド - ファンタシースターノヴァ PSNOVA 攻略Wiki.html\">ロッド - ファンタシースターノヴァ PSNOVA 攻略Wiki</a></br>\n",
      "<a href=\"./psnova\\一般エネミー - ファンタシースターノヴァ PSNOVA 攻略Wiki.html\">一般エネミー - ファンタシースターノヴァ PSNOVA 攻略Wiki</a></br>\n",
      "<a href=\"./psnova\\体験版の仕様 - ファンタシースターノヴァ PSNOVA 攻略Wiki.html\">体験版の仕様 - ファンタシースターノヴァ PSNOVA 攻略Wiki</a></br>\n",
      "<a href=\"./psnova\\古代都市 - ファンタシースターノヴァ PSNOVA 攻略Wiki.html\">古代都市 - ファンタシースターノヴァ PSNOVA 攻略Wiki</a></br>\n",
      "<a href=\"./psnova\\大尖塔 - ファンタシースターノヴァ PSNOVA 攻略Wiki.html\">大尖塔 - ファンタシースターノヴァ PSNOVA 攻略Wiki</a></br>\n",
      "<a href=\"./psnova\\小技／バグ - ファンタシースターノヴァ PSNOVA 攻略Wiki.html\">小技／バグ - ファンタシースターノヴァ PSNOVA 攻略Wiki</a></br>\n",
      "<a href=\"./psnova\\拠点 - ファンタシースターノヴァ PSNOVA 攻略Wiki.html\">拠点 - ファンタシースターノヴァ PSNOVA 攻略Wiki</a></br>\n",
      "<a href=\"./psnova\\攻略チャート - ファンタシースターノヴァ PSNOVA 攻略Wiki.html\">攻略チャート - ファンタシースターノヴァ PSNOVA 攻略Wiki</a></br>\n",
      "<a href=\"./psnova\\炎の高地 - ファンタシースターノヴァ PSNOVA 攻略Wiki.html\">炎の高地 - ファンタシースターノヴァ PSNOVA 攻略Wiki</a></br>\n",
      "<a href=\"./psnova\\特徴 - ファンタシースターノヴァ PSNOVA 攻略Wiki.html\">特徴 - ファンタシースターノヴァ PSNOVA 攻略Wiki</a></br>\n",
      "<a href=\"./psnova\\特殊能力 - ファンタシースターノヴァ PSNOVA 攻略Wiki.html\">特殊能力 - ファンタシースターノヴァ PSNOVA 攻略Wiki</a></br>\n",
      "<a href=\"./psnova\\素材 - ファンタシースターノヴァ PSNOVA 攻略Wiki.html\">素材 - ファンタシースターノヴァ PSNOVA 攻略Wiki</a></br>\n",
      "<a href=\"./psnova\\追加クエスト - ファンタシースターノヴァ PSNOVA 攻略Wiki.html\">追加クエスト - ファンタシースターノヴァ PSNOVA 攻略Wiki</a></br>\n",
      "<a href=\"./psnova\\鋼の荒野 - ファンタシースターノヴァ PSNOVA 攻略Wiki.html\">鋼の荒野 - ファンタシースターノヴァ PSNOVA 攻略Wiki</a></br>\n",
      "<a href=\"./psnova\\難易度 - ファンタシースターノヴァ PSNOVA 攻略Wiki.html\">難易度 - ファンタシースターノヴァ PSNOVA 攻略Wiki</a></br>\n",
      "<a href=\"./psnova\\食事 - ファンタシースターノヴァ PSNOVA 攻略Wiki.html\">食事 - ファンタシースターノヴァ PSNOVA 攻略Wiki</a></br>\n"
     ]
    }
   ],
   "source": [
    "import glob\n",
    "for i in glob.glob(\"./psnova/*.html\"):\n",
    "#    print(i)\n",
    "    print('<a href=\"'+i+'\">'+i[9:-5]+'</a></br>')\n",
    "\n"
   ]
  }
 ],
 "metadata": {
  "kernelspec": {
   "display_name": "Python 3",
   "language": "python",
   "name": "python3"
  },
  "language_info": {
   "codemirror_mode": {
    "name": "ipython",
    "version": 3
   },
   "file_extension": ".py",
   "mimetype": "text/x-python",
   "name": "python",
   "nbconvert_exporter": "python",
   "pygments_lexer": "ipython3",
   "version": "3.7.5"
  }
 },
 "nbformat": 4,
 "nbformat_minor": 2
}
